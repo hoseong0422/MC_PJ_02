{
 "cells": [
  {
   "cell_type": "code",
   "execution_count": 1,
   "metadata": {},
   "outputs": [],
   "source": [
    "import matplotlib.pyplot as plt\n",
    "import seaborn as sns\n",
    "import numpy as np\n",
    "%matplotlib inline\n",
    "\n",
    "import matplotlib.font_manager\n",
    "import pandas as pd"
   ]
  },
  {
   "cell_type": "code",
   "execution_count": null,
   "metadata": {},
   "outputs": [],
   "source": [
    "from pyspark.sql import SparkSession\n",
    "spark = SparkSession.builder.master(\"local\").appName(\"spark-sql\").getOrCreate()"
   ]
  },
  {
   "cell_type": "code",
   "execution_count": 3,
   "metadata": {},
   "outputs": [],
   "source": [
    "directory = \"/home/hslee/project_2/data\"\n",
    "\n",
    "mango_category_sdf = spark.read.csv(f\"file:///home/hslee/project_2/mango_category.csv\", header=True, inferSchema=True)"
   ]
  },
  {
   "cell_type": "code",
   "execution_count": 4,
   "metadata": {},
   "outputs": [],
   "source": [
    "directory = \"/home/hslee/project_2/data\"\n",
    "\n",
    "filename_mango_review = \"mango_review.csv\"\n",
    "filename_mango_restaurant = \"mango_restaurant.csv\"\n",
    "\n",
    "filename_naver_review = \"naver_review.csv\"\n",
    "filename_naver_restaurant = \"naver_restaurant.csv\"\n",
    "\n",
    "filename_naver_review = \"naver_review.csv\"\n",
    "filename_naver_restaurant = \"naver_restaurant.csv\"\n",
    "\n",
    "filename_google_review = \"google_review.csv\"\n",
    "filename_google_restaurant = \"google_restaurant.csv\"\n",
    "\n",
    "filename_insta_post = \"insta_post.csv\"\n",
    "filename_insta_restaurant = \"insta_restaurant.csv\""
   ]
  },
  {
   "cell_type": "code",
   "execution_count": 5,
   "metadata": {},
   "outputs": [],
   "source": [
    "mango_review_sdf = spark.read.csv(f\"file:///{directory}/{filename_mango_review}\", header=True, inferSchema=True)\n",
    "mango_restaurant_sdf = spark.read.csv(f\"file:///{directory}/{filename_mango_restaurant}\", header=True, inferSchema=True)\n",
    "\n",
    "naver_review_sdf = spark.read.csv(f\"file:///{directory}/{filename_naver_review}\", header=True, inferSchema=True)\n",
    "naver_restaurant_sdf = spark.read.csv(f\"file:///{directory}/{filename_naver_restaurant}\", header=True, inferSchema=True)\n",
    "\n",
    "google_review_sdf = spark.read.csv(f\"file:///{directory}/{filename_google_review}\", header=True, inferSchema=True)\n",
    "google_restaurant_sdf = spark.read.csv(f\"file:///{directory}/{filename_google_restaurant}\", header=True, inferSchema=True)\n",
    "\n",
    "insta_post_sdf = spark.read.csv(f\"file:///{directory}/{filename_insta_post}\", header=True, inferSchema=True)\n",
    "insta_restaurant_sdf = spark.read.csv(f\"file:///{directory}/{filename_insta_restaurant}\", header=True, inferSchema=True)"
   ]
  },
  {
   "cell_type": "code",
   "execution_count": 6,
   "metadata": {},
   "outputs": [
    {
     "name": "stdout",
     "output_type": "stream",
     "text": [
      "+----------------------------------+------------------------------+----------------------------+----------+\n",
      "|                               _c0|                            id|                      review|evaluation|\n",
      "+----------------------------------+------------------------------+----------------------------+----------+\n",
      "|                                 0|                           101|강동에 위치한 타이음식 맛집.|      null|\n",
      "|  근처에 잠깐 올 일이 있어 왔다...|                          null|                        null|      null|\n",
      "|                   리뷰들을 보니 3| 4년 전에 한 번 홀릭들 사이...|                        null|      null|\n",
      "| 와이프가 태국음식을 좋아해 한 ...|                          null|                        null|      null|\n",
      "|우럭튀김이 있어 시켜보려고 했지...|                          null|                        null|      null|\n",
      "+----------------------------------+------------------------------+----------------------------+----------+\n",
      "only showing top 5 rows\n",
      "\n"
     ]
    },
    {
     "name": "stderr",
     "output_type": "stream",
     "text": [
      "22/06/18 21:30:19 WARN CSVHeaderChecker: CSV header does not conform to the schema.\n",
      " Header: , id, review, evaluation\n",
      " Schema: _c0, id, review, evaluation\n",
      "Expected: _c0 but found: \n",
      "CSV file: file:///home/hslee/project_2/data/mango_review.csv\n"
     ]
    }
   ],
   "source": [
    "mango_review_sdf.show(5)\n",
    "mango_review_sdf.createOrReplaceTempView(\"mango_review\")"
   ]
  },
  {
   "cell_type": "code",
   "execution_count": 7,
   "metadata": {},
   "outputs": [
    {
     "name": "stdout",
     "output_type": "stream",
     "text": [
      "+---+---+------------+------+-------------+------+------+--------+---------------------------------+---------------------------------+---------------+---------------+--------------+\n",
      "|_c0| id|        name|region|     category|rating|  hits|bookmark|                     road_address|                     land_address|evaluation_nice|evaluation_soso|evaluation_bad|\n",
      "+---+---+------------+------+-------------+------+------+--------+---------------------------------+---------------------------------+---------------+---------------+--------------+\n",
      "|  0|101|      보타이|강동구|    태국 음식|   4.4|114664|    2256|  서울특별시 강동구 풍성로 90 ...|    서울시 강동구 성내동 111-5...|             65|             11|             9|\n",
      "|  1|102|    얌얌카츠|강동구|    까스 요리|   4.4| 29671|     727|  서울특별시 강동구 천호옛14길 22|        서울시 강동구 성내동 30-1|             22|              4|             1|\n",
      "|  2|103|신흥정육식당|강동구|    고기 요리|   4.4|  5445|     137|서울특별시 강동구 양재대로89길 16|       서울시 강동구 성내동 428-2|             10|              1|             0|\n",
      "|  3|104|  커피몽타주|강동구|카페 / 디저트|   4.3| 69642|    2002|서울특별시 강동구 올림픽로48길...|    서울시 강동구 성내동 555-5...|             59|             14|             1|\n",
      "|  4|105|        다람|강동구|    기타 한식|   4.3| 16923|     607|서울특별시 강동구 양재대로85길...|서울시 강동구 성내동 443 유봉빌딩|             13|              3|             0|\n",
      "+---+---+------------+------+-------------+------+------+--------+---------------------------------+---------------------------------+---------------+---------------+--------------+\n",
      "only showing top 5 rows\n",
      "\n"
     ]
    },
    {
     "name": "stderr",
     "output_type": "stream",
     "text": [
      "22/06/18 21:30:19 WARN CSVHeaderChecker: CSV header does not conform to the schema.\n",
      " Header: , id, name, region, category, rating, hits, bookmark, road_address, land_address, evaluation_nice, evaluation_soso, evaluation_bad\n",
      " Schema: _c0, id, name, region, category, rating, hits, bookmark, road_address, land_address, evaluation_nice, evaluation_soso, evaluation_bad\n",
      "Expected: _c0 but found: \n",
      "CSV file: file:///home/hslee/project_2/data/mango_restaurant.csv\n"
     ]
    }
   ],
   "source": [
    "mango_restaurant_sdf.show(5) \n",
    "mango_restaurant_sdf.createOrReplaceTempView(\"mango_restaurant\")"
   ]
  },
  {
   "cell_type": "code",
   "execution_count": 8,
   "metadata": {},
   "outputs": [
    {
     "name": "stdout",
     "output_type": "stream",
     "text": [
      "+----------------------------------+----+---------------------------------+\n",
      "|                               _c0|  id|                           review|\n",
      "+----------------------------------+----+---------------------------------+\n",
      "|                                 0| 148|건대에서 가성비와 맛이 정말 좋...|\n",
      "|        육성회비에서 다녀 왔습니다|null|                             null|\n",
      "| 친구와 2차로 방문한곳인데 건대...|null|                             null|\n",
      "| 다소 떨어진 위치에 있어 친구와...|null|                             null|\n",
      "|할 수 있겠다고 생각했는데 반전이..|null|                             null|\n",
      "+----------------------------------+----+---------------------------------+\n",
      "only showing top 5 rows\n",
      "\n"
     ]
    },
    {
     "name": "stderr",
     "output_type": "stream",
     "text": [
      "22/06/18 21:30:19 WARN CSVHeaderChecker: CSV header does not conform to the schema.\n",
      " Header: , id, review\n",
      " Schema: _c0, id, review\n",
      "Expected: _c0 but found: \n",
      "CSV file: file:///home/hslee/project_2/data/naver_review.csv\n"
     ]
    }
   ],
   "source": [
    "naver_review_sdf.show(5)\n",
    "naver_review_sdf.createOrReplaceTempView(\"naver_review\")"
   ]
  },
  {
   "cell_type": "code",
   "execution_count": 9,
   "metadata": {},
   "outputs": [
    {
     "name": "stderr",
     "output_type": "stream",
     "text": [
      "22/06/18 21:30:20 WARN CSVHeaderChecker: CSV header does not conform to the schema.\n",
      " Header: , id, name, category, rating, address\n",
      " Schema: _c0, id, name, category, rating, address\n",
      "Expected: _c0 but found: \n",
      "CSV file: file:///home/hslee/project_2/data/naver_restaurant.csv\n"
     ]
    },
    {
     "name": "stdout",
     "output_type": "stream",
     "text": [
      "+---+---+------------+-------------+------+-------------------------------+\n",
      "|_c0| id|        name|     category|rating|                        address|\n",
      "+---+---+------------+-------------+------+-------------------------------+\n",
      "|  0|101|      보타이|     태국음식|  4.47|서울 강동구 풍성로 90 한스빌...|\n",
      "|  1|102|    얌얌카츠|       돈가스|  4.65|  서울 강동구 천호옛14길 22 1층|\n",
      "|  2|103|신흥정육식당|     정육식당|  4.31| 서울 강동구 양재대로89길 16...|\n",
      "|  3|104|  커피몽타주|         카페|  4.67| 서울 강동구 올림픽로48길 23...|\n",
      "|  4|105|        다람|육류,고기요리|   4.4|    서울 강동구 양재대로85길 29|\n",
      "+---+---+------------+-------------+------+-------------------------------+\n",
      "only showing top 5 rows\n",
      "\n"
     ]
    }
   ],
   "source": [
    "naver_restaurant_sdf.show(5)\n",
    "naver_restaurant_sdf.createOrReplaceTempView(\"naver_restaurant\")"
   ]
  },
  {
   "cell_type": "code",
   "execution_count": 10,
   "metadata": {},
   "outputs": [
    {
     "name": "stdout",
     "output_type": "stream",
     "text": [
      "+----------------------------------+----+---------------------------------+\n",
      "|                               _c0|  id|                           review|\n",
      "+----------------------------------+----+---------------------------------+\n",
      "|                                 0| 148|건대에서 가성비와 맛이 정말 좋...|\n",
      "|        육성회비에서 다녀 왔습니다|null|                             null|\n",
      "| 친구와 2차로 방문한곳인데 건대...|null|                             null|\n",
      "| 다소 떨어진 위치에 있어 친구와...|null|                             null|\n",
      "|할 수 있겠다고 생각했는데 반전이..|null|                             null|\n",
      "+----------------------------------+----+---------------------------------+\n",
      "only showing top 5 rows\n",
      "\n"
     ]
    },
    {
     "name": "stderr",
     "output_type": "stream",
     "text": [
      "22/06/18 21:30:20 WARN CSVHeaderChecker: CSV header does not conform to the schema.\n",
      " Header: , id, review\n",
      " Schema: _c0, id, review\n",
      "Expected: _c0 but found: \n",
      "CSV file: file:///home/hslee/project_2/data/google_review.csv\n"
     ]
    }
   ],
   "source": [
    "google_review_sdf.show(5)\n",
    "google_review_sdf.createOrReplaceTempView(\"google_review\")"
   ]
  },
  {
   "cell_type": "code",
   "execution_count": 11,
   "metadata": {},
   "outputs": [
    {
     "name": "stdout",
     "output_type": "stream",
     "text": [
      "+---+---+------------+---------------------+------+---------------------------------+\n",
      "|_c0| id|        name|             category|rating|                          address|\n",
      "+---+---+------------+---------------------+------+---------------------------------+\n",
      "|  0|101|      보타이|          태국 음식점|   4.3|      서울특별시 강동구 풍성로 90|\n",
      "|  1|102|    얌얌카츠|      돈까스 전문식당|   4.7| 서울특별시 강동구 천호옛14길 ...|\n",
      "|  2|103|신흥정육식당|               음식점|   4.4|서울특별시 강동구 양재대로89길...|\n",
      "|  3|104|  커피몽타주|                 카페|   4.5|서울특별시 강동구 올림픽로48길...|\n",
      "|  4|105|        다람|숯불구이/바베큐전문점|   4.5|    서울특별시 강동구 성내3동 443|\n",
      "+---+---+------------+---------------------+------+---------------------------------+\n",
      "only showing top 5 rows\n",
      "\n"
     ]
    },
    {
     "name": "stderr",
     "output_type": "stream",
     "text": [
      "22/06/18 21:30:20 WARN CSVHeaderChecker: CSV header does not conform to the schema.\n",
      " Header: , id, name, category, rating, address\n",
      " Schema: _c0, id, name, category, rating, address\n",
      "Expected: _c0 but found: \n",
      "CSV file: file:///home/hslee/project_2/data/google_restaurant.csv\n"
     ]
    }
   ],
   "source": [
    "google_restaurant_sdf.show(5)\n",
    "google_restaurant_sdf.createOrReplaceTempView(\"google_restaurant\")"
   ]
  },
  {
   "cell_type": "code",
   "execution_count": 12,
   "metadata": {},
   "outputs": [
    {
     "name": "stdout",
     "output_type": "stream",
     "text": [
      "+---+---+------+---------------------------------+--------------------+-----+\n",
      "|_c0| id|  name|                          content|                tags|likes|\n",
      "+---+---+------+---------------------------------+--------------------+-----+\n",
      "|  0|101|보타이|이전에 맞춤 제작해드렸던 일이 ...|[kfashion handmad...| null|\n",
      "|  1|101|보타이|6월 신상부터는 같이 제공드리고...|        [릴레노벨라]| null|\n",
      "|  2|101|보타이|           Store Updated! 미리...|        [릴레노벨라]| null|\n",
      "|  3|101|보타이|            Store Updated! 6월...|        [릴레노벨라]| null|\n",
      "|  4|101|보타이|            Store Updated! 6월...|        [릴레노벨라]| null|\n",
      "+---+---+------+---------------------------------+--------------------+-----+\n",
      "only showing top 5 rows\n",
      "\n"
     ]
    },
    {
     "name": "stderr",
     "output_type": "stream",
     "text": [
      "22/06/18 21:30:20 WARN CSVHeaderChecker: CSV header does not conform to the schema.\n",
      " Header: , id, name, content, tags, likes\n",
      " Schema: _c0, id, name, content, tags, likes\n",
      "Expected: _c0 but found: \n",
      "CSV file: file:///home/hslee/project_2/data/insta_post.csv\n"
     ]
    }
   ],
   "source": [
    "insta_post_sdf.show(5)\n",
    "insta_post_sdf.createOrReplaceTempView(\"insta_post\")"
   ]
  },
  {
   "cell_type": "code",
   "execution_count": 13,
   "metadata": {},
   "outputs": [
    {
     "name": "stdout",
     "output_type": "stream",
     "text": [
      "+---+---+------------+--------+\n",
      "|_c0| id|        name|post_cnt|\n",
      "+---+---+------------+--------+\n",
      "|  0|101|      보타이|    2540|\n",
      "|  1|102|    얌얌카츠|   30722|\n",
      "|  2|103|신흥정육식당|     734|\n",
      "|  3|104|  커피몽타주|    2493|\n",
      "|  4|105|        다람|   13661|\n",
      "+---+---+------------+--------+\n",
      "only showing top 5 rows\n",
      "\n"
     ]
    },
    {
     "name": "stderr",
     "output_type": "stream",
     "text": [
      "22/06/18 21:30:20 WARN CSVHeaderChecker: CSV header does not conform to the schema.\n",
      " Header: , id, name, post_cnt\n",
      " Schema: _c0, id, name, post_cnt\n",
      "Expected: _c0 but found: \n",
      "CSV file: file:///home/hslee/project_2/data/insta_restaurant.csv\n"
     ]
    }
   ],
   "source": [
    "insta_restaurant_sdf.show(5)\n",
    "insta_restaurant_sdf.createOrReplaceTempView(\"insta_restaurant\")"
   ]
  },
  {
   "cell_type": "markdown",
   "metadata": {},
   "source": [
    "## 테이블 리스트\n",
    "- mango_review_sdf, mango_restaurant_sdf\n",
    "- naver_review_sdf, naver_restaurant_sdf\n",
    "- google_review_sdf, google_restaurant_sdf\n",
    "- insta_post_sdf, insta_restaurant_sdf"
   ]
  },
  {
   "cell_type": "markdown",
   "metadata": {},
   "source": [
    "## 망고 플레이트"
   ]
  },
  {
   "cell_type": "markdown",
   "metadata": {},
   "source": [
    "### 망고 상위"
   ]
  },
  {
   "cell_type": "code",
   "execution_count": 14,
   "metadata": {},
   "outputs": [
    {
     "name": "stdout",
     "output_type": "stream",
     "text": [
      "+---+------------------------+------+----------------------------------+--------+\n",
      "| id|                    name|rating|                      road_address|category|\n",
      "+---+------------------------+------+----------------------------------+--------+\n",
      "|131|따빠디또 디저트 따빠스바|   4.8|   서울특별시 관악구 행운1길 40...|  디저트|\n",
      "|202|                  오제제|   4.8|   서울특별시 중구 세종대로 136 B3|    일식|\n",
      "|261|              작은피자집|   4.8|   서울특별시 동작구 사당로30길 96|    양식|\n",
      "|192|                    호반|   4.8| 서울특별시 종로구 삼일대로26길 20|    한식|\n",
      "|271|                  쉐시몽|   4.8| 서울특별시 마포구 월드컵로10길...|    양식|\n",
      "|272|          카와카츠오토코|   4.8|   서울특별시 마포구 양화로 78-...|    일식|\n",
      "|201|                회현식당|   4.8|     서울특별시 중구 퇴계로2길 9-8|    일식|\n",
      "|273|                  파델라|   4.8|  서울특별시 마포구 연남로1길 1...|    양식|\n",
      "|274|                    로랑|   4.8|   서울특별시 마포구 성지1길 15 1F|    일식|\n",
      "|191|                  만가타|   4.8|  서울특별시 종로구 삼청로2길 40-5|    양식|\n",
      "|141|    오코노미야키식당하나|   4.7|  서울특별시 광진구 능동로13길 111|    일식|\n",
      "|203|            나인스게이트|   4.7|    서울특별시 중구 소공로 106 ...|    양식|\n",
      "|172|                우미노미|   4.7|  서울특별시 영등포구 당산로 18...|    일식|\n",
      "|204|          패스트리부티크|   4.7|    서울특별시 중구 동호로 249 ...|  디저트|\n",
      "|276|          야키토리나루토|   4.7|    서울특별시 마포구 독막로9길 26|    일식|\n",
      "|171|              스시아라타|   4.7|서울특별시 영등포구 국제금융로8...|    일식|\n",
      "|193|                부촌육회|   4.7|     서울특별시 종로구 종로 200-12|    한식|\n",
      "|205|                시키카츠|   4.7|  서울특별시 중구 다산로42나길 ...|    일식|\n",
      "|277|                  라바즈|   4.7| 서울특별시 마포구 월드컵로13길...|  디저트|\n",
      "|194|                BAR CHAM|   4.7|  서울특별시 종로구 자하문로7길 34| 바(BAR)|\n",
      "+---+------------------------+------+----------------------------------+--------+\n",
      "only showing top 20 rows\n",
      "\n"
     ]
    }
   ],
   "source": [
    "# 망고 식당 상위 20개\n",
    "\n",
    "query = \"\"\"\n",
    "SELECT id, name, rating, road_address,\n",
    "CASE WHEN category = \"카페 / 디저트\" THEN \"디저트\"\n",
    "     WHEN category = \"베이커리\" THEN \"디저트\"\n",
    "     WHEN category = \"까스 요리\" THEN \"일식\"\n",
    "     WHEN category = \"회 / 스시\" THEN \"일식\"\n",
    "     WHEN category = \"이자카야 / 오뎅 / 꼬치\" THEN \"일식\"\n",
    "     WHEN category = \"돈부리 / 일본 카레 / 벤토\" THEN \"일식\"\n",
    "     WHEN category = \"정통 일식 / 일반 일식\" THEN \"일식\"\n",
    "     WHEN category = \"한정식 / 백반 / 정통 한식\" THEN \"한식\"\n",
    "     WHEN category = \"고기 요리\" THEN \"한식\"\n",
    "     WHEN category = \"철판 요리\" THEN \"일식\"\n",
    "     WHEN category = \"세계음식 기타\" THEN \"양식\"\n",
    "     WHEN category = \"기타 양식\" THEN \"양식\"\n",
    "     WHEN category = \"프랑스 음식\" THEN \"양식\"\n",
    "     WHEN category = \"이탈리안\" THEN \"양식\"\n",
    "     WHEN category = \"스테이크 / 바베큐\" THEN \"양식\"\n",
    "     WHEN category = \"칵테일 / 와인\" THEN \"바(BAR)\"\n",
    "     WHEN category = \"브런치 / 버거 / 샌드위치\" THEN \"양식\"\n",
    "     WHEN category = \"정통 중식 / 일반 중식\" THEN \"중식\"\n",
    "     WHEN category = \"딤섬 / 만두\" THEN \"중식\"\n",
    "     WHEN category = \"기타 중식\" THEN \"중식\"\n",
    "     WHEN category = \"탕 / 찌개 / 전골\" THEN \"한식\"\n",
    "     WHEN category = \"퓨전 한식\" THEN \"한식\"\n",
    "     WHEN category = \"퓨전 양식\" THEN \"양식\"\n",
    "     WHEN category = \"뷔페\" THEN \"양식\"\n",
    "     WHEN category = \"기타 한식\" THEN \"한식\"\n",
    "     WHEN category = \"닭 / 오리 요리\" THEN \"한식\"\n",
    "     WHEN category = \"기타 일식\" THEN \"일식\"\n",
    "     WHEN category = \"일반 주점\" THEN \"일식\"\n",
    "     WHEN category = \"라멘 / 소바 / 우동\" THEN \"일식\"\n",
    "     WHEN category = \"국수 / 면 요리\" THEN \"한식\"\n",
    "     WHEN category = \"해산물 요리\" THEN \"한식\"\n",
    "     \n",
    "     \n",
    "     ELSE category\n",
    "     END AS category\n",
    "FROM mango_restaurant\n",
    "\n",
    "ORDER BY rating DESC\n",
    "\"\"\"\n",
    "\n",
    "spark.sql(query).show()\n",
    "mango_category_df = spark.sql(query)\n"
   ]
  },
  {
   "cell_type": "code",
   "execution_count": 15,
   "metadata": {},
   "outputs": [],
   "source": [
    "mango_category_df.createOrReplaceTempView(\"mango_category\")"
   ]
  },
  {
   "cell_type": "code",
   "execution_count": 16,
   "metadata": {},
   "outputs": [
    {
     "name": "stdout",
     "output_type": "stream",
     "text": [
      "+---------+---+\n",
      "| category|CNT|\n",
      "+---------+---+\n",
      "|     한식| 54|\n",
      "|     일식| 45|\n",
      "|   디저트| 27|\n",
      "|     중식| 24|\n",
      "|     양식| 23|\n",
      "|태국 음식|  3|\n",
      "|남미 음식|  3|\n",
      "|  바(BAR)|  1|\n",
      "+---------+---+\n",
      "\n"
     ]
    }
   ],
   "source": [
    "query = \"\"\"\n",
    "SELECT category, COUNT(*) AS CNT\n",
    "FROM mango_category\n",
    "GROUP BY category\n",
    "ORDER BY CNT DESC\n",
    "\"\"\"\n",
    "spark.sql(query).show()\n"
   ]
  },
  {
   "cell_type": "code",
   "execution_count": 115,
   "metadata": {},
   "outputs": [],
   "source": [
    "category_df = spark.sql(query).toPandas()"
   ]
  },
  {
   "cell_type": "code",
   "execution_count": 116,
   "metadata": {},
   "outputs": [],
   "source": [
    "category_df.to_csv(\"category_df.csv\")"
   ]
  },
  {
   "cell_type": "code",
   "execution_count": null,
   "metadata": {},
   "outputs": [],
   "source": [
    "directory = \"/home/hslee/project_2/data\"\n",
    "\n",
    "mango_category_sdf = spark.read.csv(f\"file:///home/hslee/project_2/mango_category.csv\", header=True, inferSchema=True)"
   ]
  },
  {
   "cell_type": "code",
   "execution_count": 72,
   "metadata": {},
   "outputs": [
    {
     "data": {
      "text/plain": [
       "<bound method DataFrame.show of DataFrame[id: int, name: string, rating: double, road_address: string, category: string]>"
      ]
     },
     "execution_count": 72,
     "metadata": {},
     "output_type": "execute_result"
    }
   ],
   "source": [
    "qeury = \"\"\"\n",
    "SELECT category\n",
    "FROM mango_category\n",
    "\"\"\"\n",
    "\n",
    "spark.sql(query).show"
   ]
  },
  {
   "cell_type": "code",
   "execution_count": 40,
   "metadata": {},
   "outputs": [
    {
     "name": "stdout",
     "output_type": "stream",
     "text": [
      "+---+---------------+------+---------+\n",
      "| id|           name|rating| category|\n",
      "+---+---------------+------+---------+\n",
      "|189|참새식당 스즈메|   4.2|일반 주점|\n",
      "+---+---------------+------+---------+\n",
      "\n"
     ]
    }
   ],
   "source": [
    "# 망고 식당 상위 20개\n",
    "\n",
    "query = \"\"\"\n",
    "SELECT id, name, rating,category\n",
    "FROM mango_restaurant\n",
    "WHERE category = \"일반 주점\"\n",
    "ORDER BY rating ASC\n",
    "LIMIT 20; \n",
    "\"\"\"\n",
    "\n",
    "spark.sql(query).show()\n",
    "mango_restaurant_df = spark.sql(query)"
   ]
  },
  {
   "cell_type": "code",
   "execution_count": 41,
   "metadata": {},
   "outputs": [
    {
     "name": "stdout",
     "output_type": "stream",
     "text": [
      "+---+------------------+------+----------------------------------+---------+\n",
      "| id|              name|rating|                      road_address| category|\n",
      "+---+------------------+------+----------------------------------+---------+\n",
      "|220|        파크더블유|   3.3| 서울특별시 중랑구 양원역로16길...|   디저트|\n",
      "|219|      홍이네떡볶이|   3.5|   서울특별시 중랑구 망우로73길 26|     한식|\n",
      "|230|            춘천옥|   3.6| 서울특별시 금천구 디지털로12길...|     한식|\n",
      "|160|        빈브라더스|   3.7|   서울특별시 구로구 경인로 662...|   디저트|\n",
      "|229|          인크커피|   3.7|서울특별시 금천구 가산디지털2로...|   디저트|\n",
      "|157|          평양냉면|   3.8|   서울특별시 구로구 고척로10길 65|     한식|\n",
      "|158|   신도림 이도식당|   3.8|   서울특별시 구로구 경인로 661...|     한식|\n",
      "|159|      신도림참족발|   3.8|   서울특별시 구로구 경인로 661...|     한식|\n",
      "|218|            한참치|   3.8|   서울특별시 중랑구 공릉로 32 ...|     일식|\n",
      "|155|  이스트바이게이트|   3.9|   서울특별시 구로구 경인로 662...|태국 음식|\n",
      "|156|        상하이포차|   3.9|      서울특별시 구로구 새말로 102|     중식|\n",
      "|227|        카페스미다|   3.9|   서울특별시 금천구 벚꽃로 298...|   디저트|\n",
      "|228|            호세가|   3.9| 서울특별시 금천구 남부순환로10...|남미 음식|\n",
      "|215|      가고파설렁탕|   4.0|    서울특별시 중랑구 봉우재로 200|     한식|\n",
      "|216|울타리철판곱창전문|   4.0|   서울특별시 중랑구 중랑역로 14-1|     한식|\n",
      "|217|          함평국밥|   4.0| 서울특별시 중랑구 봉우재로33길 73|     한식|\n",
      "|240|            돈부리|   4.0|     서울특별시 노원구 동일로 1343|     일식|\n",
      "|225|          팔람까오|   4.0|    서울특별시 금천구 서부샛길 606|태국 음식|\n",
      "|119|        미즐카페엠|   4.0|      서울특별시 강북구 4.19로 107|   디저트|\n",
      "|120|      다래함박스텍|   4.0|     서울특별시 강북구 수유로 20-2|     양식|\n",
      "+---+------------------+------+----------------------------------+---------+\n",
      "\n"
     ]
    }
   ],
   "source": [
    "query = \"\"\"\n",
    "SELECT id, name, rating, road_address, \n",
    "CASE WHEN category = \"카페 / 디저트\" THEN \"디저트\"\n",
    "     WHEN category = \"회 / 스시\" THEN \"일식\"\n",
    "     WHEN category = \"이자카야 / 오뎅 / 꼬치\" THEN \"일식\"\n",
    "     WHEN category = \"돈부리 / 일본 카레 / 벤토\" THEN \"일식\"\n",
    "     WHEN category = \"정통 일식 / 일반 일식\" THEN \"일식\"\n",
    "     WHEN category = \"한정식 / 백반 / 정통 한식\" THEN \"한식\"\n",
    "     WHEN category = \"철판 요리\" THEN \"일식\"\n",
    "     WHEN category = \"세계음식 기타\" THEN \"양식\"\n",
    "     WHEN category = \"기타 양식\" THEN \"양식\"\n",
    "     WHEN category = \"프랑스 음식\" THEN \"양식\"\n",
    "     WHEN category = \"이탈리안\" THEN \"양식\"\n",
    "     WHEN category = \"스테이크 / 바베큐\" THEN \"양식\"\n",
    "     WHEN category = \"칵테일 / 와인\" THEN \"바(BAR)\"\n",
    "     WHEN category = \"카페 / 디저트\" THEN \"디저트\"\n",
    "     WHEN category = \"베이커리\" THEN \"디저트\"\n",
    "     WHEN category = \"까스 요리\" THEN \"일식\"\n",
    "     WHEN category = \"회 / 스시\" THEN \"일식\"\n",
    "     WHEN category = \"이자카야 / 오뎅 / 꼬치\" THEN \"일식\"\n",
    "     WHEN category = \"돈부리 / 일본 카레 / 벤토\" THEN \"일식\"\n",
    "     WHEN category = \"정통 일식 / 일반 일식\" THEN \"일식\"\n",
    "     WHEN category = \"일반 주점\" THEN \"일식\"\n",
    "     WHEN category = \"한정식 / 백반 / 정통 한식\" THEN \"한식\"\n",
    "     WHEN category = \"고기 요리\" THEN \"한식\"\n",
    "     WHEN category = \"기타 한식\" THEN \"한식\"\n",
    "     WHEN category = \"국수 / 면 요리\" THEN \"한식\"\n",
    "     WHEN category = \"닭 / 오리 요리\" THEN \"한식\"\n",
    "     WHEN category = \"탕 / 찌개 / 전골\" THEN \"한식\"\n",
    "     WHEN category = \"기타 양식\" THEN \"양식\"\n",
    "     WHEN category = \"프랑스 음식\" THEN \"양식\"\n",
    "     WHEN category = \"이탈리안\" THEN \"양식\"\n",
    "     WHEN category = \"스테이크 / 바베큐\" THEN \"양식\"\n",
    "     WHEN category = \"정통 중식 / 일반 중식\" THEN \"중식\"\n",
    "     ELSE category\n",
    "     END AS category\n",
    "FROM mango_restaurant\n",
    "ORDER BY rating ASC\n",
    "LIMIT 20;\n",
    "\"\"\"\n",
    "\n",
    "spark.sql(query).show()\n",
    "mango_restaurant_df = spark.sql(query)"
   ]
  },
  {
   "cell_type": "code",
   "execution_count": 62,
   "metadata": {},
   "outputs": [],
   "source": [
    "# 망고플레이트 상위 20개\n",
    "# 일식이 가장 많음"
   ]
  },
  {
   "cell_type": "code",
   "execution_count": 16,
   "metadata": {},
   "outputs": [],
   "source": [
    "new_df = mango_restaurant_df.groupBy(\"category\").count().orderBy(\"count\", ascending=False)\n",
    "mango_top_20 = new_df.select(\"*\").toPandas()"
   ]
  },
  {
   "cell_type": "code",
   "execution_count": 17,
   "metadata": {},
   "outputs": [
    {
     "data": {
      "text/html": [
       "<div>\n",
       "<style scoped>\n",
       "    .dataframe tbody tr th:only-of-type {\n",
       "        vertical-align: middle;\n",
       "    }\n",
       "\n",
       "    .dataframe tbody tr th {\n",
       "        vertical-align: top;\n",
       "    }\n",
       "\n",
       "    .dataframe thead th {\n",
       "        text-align: right;\n",
       "    }\n",
       "</style>\n",
       "<table border=\"1\" class=\"dataframe\">\n",
       "  <thead>\n",
       "    <tr style=\"text-align: right;\">\n",
       "      <th></th>\n",
       "      <th>category</th>\n",
       "      <th>count</th>\n",
       "    </tr>\n",
       "  </thead>\n",
       "  <tbody>\n",
       "    <tr>\n",
       "      <th>0</th>\n",
       "      <td>일식</td>\n",
       "      <td>10</td>\n",
       "    </tr>\n",
       "    <tr>\n",
       "      <th>1</th>\n",
       "      <td>양식</td>\n",
       "      <td>5</td>\n",
       "    </tr>\n",
       "    <tr>\n",
       "      <th>2</th>\n",
       "      <td>디저트</td>\n",
       "      <td>2</td>\n",
       "    </tr>\n",
       "    <tr>\n",
       "      <th>3</th>\n",
       "      <td>한식</td>\n",
       "      <td>2</td>\n",
       "    </tr>\n",
       "    <tr>\n",
       "      <th>4</th>\n",
       "      <td>바(BAR)</td>\n",
       "      <td>1</td>\n",
       "    </tr>\n",
       "  </tbody>\n",
       "</table>\n",
       "</div>"
      ],
      "text/plain": [
       "  category  count\n",
       "0       일식     10\n",
       "1       양식      5\n",
       "2      디저트      2\n",
       "3       한식      2\n",
       "4   바(BAR)      1"
      ]
     },
     "execution_count": 17,
     "metadata": {},
     "output_type": "execute_result"
    }
   ],
   "source": [
    "mango_top_20"
   ]
  },
  {
   "cell_type": "code",
   "execution_count": 64,
   "metadata": {},
   "outputs": [
    {
     "data": {
      "image/png": "[encoded data removed]",
      "text/plain": [
       "<Figure size 720x576 with 1 Axes>"
      ]
     },
     "metadata": {},
     "output_type": "display_data"
    }
   ],
   "source": [
    "plt.rcParams['figure.facecolor'] = '#F3EFEC'\n",
    "plt.rcParams['axes.facecolor'] = '#F3EFEC'\n",
    "plt.rcParams[\"font.family\"] = \"NanumGothic\"\n",
    "plt.rcParams['font.size'] = 14\n",
    "\n",
    "\n",
    "\n",
    "plt.figure(figsize=(10,8))\n",
    "plt.title(\"망고플레이트 top 20\")\n",
    "sns.barplot(x=mango_top_20[\"category\"], y=mango_top_20[\"count\"])\n",
    "plt.xticks(fontsize=16)\n",
    "plt.show()\n",
    "\n"
   ]
  },
  {
   "cell_type": "code",
   "execution_count": 61,
   "metadata": {},
   "outputs": [
    {
     "name": "stdout",
     "output_type": "stream",
     "text": [
      "+---+------------------+------+---------+\n",
      "| id|              name|rating| category|\n",
      "+---+------------------+------+---------+\n",
      "|220|        파크더블유|   3.3|   디저트|\n",
      "|219|      홍이네떡볶이|   3.5|     한식|\n",
      "|230|            춘천옥|   3.6|     한식|\n",
      "|160|        빈브라더스|   3.7|   디저트|\n",
      "|229|          인크커피|   3.7|   디저트|\n",
      "|157|          평양냉면|   3.8|     한식|\n",
      "|158|   신도림 이도식당|   3.8|     한식|\n",
      "|159|      신도림참족발|   3.8|     한식|\n",
      "|218|            한참치|   3.8|     일식|\n",
      "|155|  이스트바이게이트|   3.9|태국 음식|\n",
      "|156|        상하이포차|   3.9|     중식|\n",
      "|227|        카페스미다|   3.9|   디저트|\n",
      "|228|            호세가|   3.9|남미 음식|\n",
      "|215|      가고파설렁탕|   4.0|     한식|\n",
      "|216|울타리철판곱창전문|   4.0|     한식|\n",
      "|217|          함평국밥|   4.0|     한식|\n",
      "|240|            돈부리|   4.0|     일식|\n",
      "|225|          팔람까오|   4.0|태국 음식|\n",
      "|119|        미즐카페엠|   4.0|   디저트|\n",
      "|120|      다래함박스텍|   4.0|     양식|\n",
      "+---+------------------+------+---------+\n",
      "\n"
     ]
    }
   ],
   "source": [
    "# 망고 식당 하위 20개\n",
    "\n",
    "query = \"\"\"\n",
    "SELECT id, name, rating,\n",
    "CASE WHEN category = \"카페 / 디저트\" THEN \"디저트\"\n",
    "     WHEN category = \"베이커리\" THEN \"디저트\"\n",
    "     WHEN category = \"까스 요리\" THEN \"일식\"\n",
    "     WHEN category = \"회 / 스시\" THEN \"일식\"\n",
    "     WHEN category = \"이자카야 / 오뎅 / 꼬치\" THEN \"일식\"\n",
    "     WHEN category = \"돈부리 / 일본 카레 / 벤토\" THEN \"일식\"\n",
    "     WHEN category = \"정통 일식 / 일반 일식\" THEN \"일식\"\n",
    "     WHEN category = \"한정식 / 백반 / 정통 한식\" THEN \"한식\"\n",
    "     WHEN category = \"고기 요리\" THEN \"한식\"\n",
    "     WHEN category = \"기타 한식\" THEN \"한식\"\n",
    "     WHEN category = \"국수 / 면 요리\" THEN \"한식\"\n",
    "     WHEN category = \"닭 / 오리 요리\" THEN \"한식\"\n",
    "     WHEN category = \"탕 / 찌개 / 전골\" THEN \"한식\"\n",
    "     WHEN category = \"철판 요리\" THEN \"일식\"\n",
    "     WHEN category = \"세계음식 기타\" THEN \"양식\"\n",
    "     WHEN category = \"기타 양식\" THEN \"양식\"\n",
    "     WHEN category = \"프랑스 음식\" THEN \"양식\"\n",
    "     WHEN category = \"이탈리안\" THEN \"양식\"\n",
    "     WHEN category = \"스테이크 / 바베큐\" THEN \"양식\"\n",
    "     WHEN category = \"정통 중식 / 일반 중식\" THEN \"중식\"\n",
    "     ELSE category\n",
    "     END AS category\n",
    "FROM mango_restaurant\n",
    "ORDER BY rating ASC\n",
    "LIMIT 20;\n",
    "\"\"\"\n",
    "\n",
    "spark.sql(query).show()\n",
    "temp = spark.sql(query).groupBy(\"category\").count().orderBy(\"count\", ascending=False)\n",
    "mango_restaurant_bottom20_df = temp.select(\"*\").toPandas()"
   ]
  },
  {
   "cell_type": "code",
   "execution_count": 20,
   "metadata": {},
   "outputs": [
    {
     "data": {
      "text/html": [
       "<div>\n",
       "<style scoped>\n",
       "    .dataframe tbody tr th:only-of-type {\n",
       "        vertical-align: middle;\n",
       "    }\n",
       "\n",
       "    .dataframe tbody tr th {\n",
       "        vertical-align: top;\n",
       "    }\n",
       "\n",
       "    .dataframe thead th {\n",
       "        text-align: right;\n",
       "    }\n",
       "</style>\n",
       "<table border=\"1\" class=\"dataframe\">\n",
       "  <thead>\n",
       "    <tr style=\"text-align: right;\">\n",
       "      <th></th>\n",
       "      <th>category</th>\n",
       "      <th>count</th>\n",
       "    </tr>\n",
       "  </thead>\n",
       "  <tbody>\n",
       "    <tr>\n",
       "      <th>0</th>\n",
       "      <td>한식</td>\n",
       "      <td>8</td>\n",
       "    </tr>\n",
       "    <tr>\n",
       "      <th>1</th>\n",
       "      <td>디저트</td>\n",
       "      <td>5</td>\n",
       "    </tr>\n",
       "    <tr>\n",
       "      <th>2</th>\n",
       "      <td>일식</td>\n",
       "      <td>2</td>\n",
       "    </tr>\n",
       "    <tr>\n",
       "      <th>3</th>\n",
       "      <td>태국 음식</td>\n",
       "      <td>2</td>\n",
       "    </tr>\n",
       "    <tr>\n",
       "      <th>4</th>\n",
       "      <td>중식</td>\n",
       "      <td>1</td>\n",
       "    </tr>\n",
       "    <tr>\n",
       "      <th>5</th>\n",
       "      <td>남미 음식</td>\n",
       "      <td>1</td>\n",
       "    </tr>\n",
       "    <tr>\n",
       "      <th>6</th>\n",
       "      <td>양식</td>\n",
       "      <td>1</td>\n",
       "    </tr>\n",
       "  </tbody>\n",
       "</table>\n",
       "</div>"
      ],
      "text/plain": [
       "  category  count\n",
       "0       한식      8\n",
       "1      디저트      5\n",
       "2       일식      2\n",
       "3    태국 음식      2\n",
       "4       중식      1\n",
       "5    남미 음식      1\n",
       "6       양식      1"
      ]
     },
     "execution_count": 20,
     "metadata": {},
     "output_type": "execute_result"
    }
   ],
   "source": [
    "mango_restaurant_bottom20_df"
   ]
  },
  {
   "cell_type": "code",
   "execution_count": 65,
   "metadata": {},
   "outputs": [
    {
     "data": {
      "image/png": "[encoded data removed]",
      "text/plain": [
       "<Figure size 720x576 with 1 Axes>"
      ]
     },
     "metadata": {},
     "output_type": "display_data"
    }
   ],
   "source": [
    "plt.rcParams['figure.facecolor'] = '#F3EFEC'\n",
    "plt.rcParams['axes.facecolor'] = '#F3EFEC'\n",
    "\n",
    "plt.rcParams[\"font.family\"] = \"NanumGothic\"\n",
    "plt.rcParams['font.size'] = 14\n",
    "\n",
    "plt.figure(figsize=(10,8))\n",
    "plt.title(\"네이버 top 20\")\n",
    "\n",
    "plt.title(\"망고플레이트 bottom 20\")\n",
    "sns.barplot(x=mango_restaurant_bottom20_df[\"category\"], y=mango_restaurant_bottom20_df[\"count\"])\n",
    "plt.xticks(fontsize=16)\n",
    "plt.show()"
   ]
  },
  {
   "cell_type": "code",
   "execution_count": 22,
   "metadata": {},
   "outputs": [
    {
     "name": "stdout",
     "output_type": "stream",
     "text": [
      "+---+------------------------+------+-------------------------+---------------------------------+\n",
      "| id|                    name|rating|                 category|                     road_address|\n",
      "+---+------------------------+------+-------------------------+---------------------------------+\n",
      "|131|따빠디또 디저트 따빠스바|   4.8|            카페 / 디저트|  서울특별시 관악구 행운1길 40...|\n",
      "|191|                  만가타|   4.8|            세계음식 기타| 서울특별시 종로구 삼청로2길 40-5|\n",
      "|192|                    호반|   4.8|한정식 / 백반 / 정통 한식|서울특별시 종로구 삼일대로26길 20|\n",
      "|201|                회현식당|   4.8|   이자카야 / 오뎅 / 꼬치|    서울특별시 중구 퇴계로2길 9-8|\n",
      "|202|                  오제제|   4.8|                까스 요리|  서울특별시 중구 세종대로 136 B3|\n",
      "|261|              작은피자집|   4.8|                기타 양식|  서울특별시 동작구 사당로30길 96|\n",
      "|271|                  쉐시몽|   4.8|              프랑스 음식|서울특별시 마포구 월드컵로10길...|\n",
      "|272|          카와카츠오토코|   4.8|                까스 요리|  서울특별시 마포구 양화로 78-...|\n",
      "|273|                  파델라|   4.8|                 이탈리안| 서울특별시 마포구 연남로1길 1...|\n",
      "|274|                    로랑|   4.8|                회 / 스시|  서울특별시 마포구 성지1길 15 1F|\n",
      "+---+------------------------+------+-------------------------+---------------------------------+\n",
      "\n"
     ]
    }
   ],
   "source": [
    "# 망고\n",
    "query = \"\"\"\n",
    "SELECT id, name, rating, category, road_address\n",
    "FROM mango_restaurant\n",
    "WHERE rating > 4.7\n",
    "ORDER BY rating DESC;\n",
    "\"\"\"\n",
    "\n",
    "spark.sql(query).show()"
   ]
  },
  {
   "cell_type": "code",
   "execution_count": 17,
   "metadata": {},
   "outputs": [
    {
     "name": "stdout",
     "output_type": "stream",
     "text": [
      "+---+------------------------+------+--------+\n",
      "| id|                    name|rating|category|\n",
      "+---+------------------------+------+--------+\n",
      "|170|                    옥돌|   5.0|    양식|\n",
      "|210|                  시미베|   5.0|    일식|\n",
      "|231|              스시하쿠야|   5.0|    일식|\n",
      "|131|따빠디또 디저트 따빠스바|  4.94|  디저트|\n",
      "|149|                    플록|  4.87|    양식|\n",
      "|276|         야키토리 나루토|  4.87|    일식|\n",
      "|182|                스시온도|  4.82|    일식|\n",
      "|199|                    물랑|  4.81|    양식|\n",
      "|272|         카와카츠 합정점|  4.81|    일식|\n",
      "|171|              스시아라타|  4.79|    일식|\n",
      "|274|                    로랑|  4.78|    일식|\n",
      "|133|                베이컨시|  4.77|    양식|\n",
      "|271|                  쉐시몽|  4.77|    양식|\n",
      "|194|                BAR CHAM|  4.76| 바(BAR)|\n",
      "|164|                우정초밥|  4.73|    일식|\n",
      "|195|                    팔마|  4.73| 바(BAR)|\n",
      "|124|              소장식물전|  4.72|  디저트|\n",
      "|161|                    카레|  4.71|    일식|\n",
      "|189|         참새식당 스즈메|  4.71|    일식|\n",
      "|114|    엘림들깨수제비칼국수|   4.7|    한식|\n",
      "+---+------------------------+------+--------+\n",
      "\n"
     ]
    }
   ],
   "source": [
    "# 네이버 평점\n",
    "\n",
    "query = \"\"\"\n",
    "SELECT id, name, rating,\n",
    "CASE WHEN category = \"카페,디저트\" THEN \"디저트\"\n",
    "     WHEN category = \"베이커리\" THEN \"디저트\"\n",
    "     WHEN category = \"까스 요리\" THEN \"일식\"\n",
    "     WHEN category = \"초밥,롤\" THEN \"일식\"\n",
    "     WHEN category = \"일식튀김,꼬치\" THEN \"일식\"\n",
    "     WHEN category = \"돈가스\" THEN \"일식\"\n",
    "     WHEN category = \"일식당\" THEN \"일식\"\n",
    "     WHEN category = \"한정식 / 백반 / 정통 한식\" THEN \"한식\"\n",
    "     WHEN category = \"고기 요리\" THEN \"한식\"\n",
    "     WHEN category = \"기타 한식\" THEN \"한식\"\n",
    "     WHEN category = \"철판 요리\" THEN \"일식\"\n",
    "     WHEN category = \"세계음식 기타\" THEN \"양식\"\n",
    "     WHEN category = \"기타 양식\" THEN \"양식\"\n",
    "     WHEN category = \"프랑스음식\" THEN \"양식\"\n",
    "     WHEN category = \"이탈리안\" THEN \"양식\"\n",
    "     WHEN category = \"스파게티,파스타전문\" THEN \"양식\"\n",
    "     WHEN category = \"아이스크림\" THEN \"디저트\"\n",
    "     WHEN category = \"와인\" THEN \"바(BAR)\"\n",
    "     ELSE category\n",
    "     END AS category\n",
    "FROM naver_restaurant\n",
    "WHERE rating IS NOT NULL AND\n",
    "      rating > 4.4\n",
    "ORDER BY rating DESC\n",
    "LIMIT 20;\n",
    "\"\"\"\n",
    "\n",
    "spark.sql(query).show()\n",
    "naver_restaurant_top20_df = spark.sql(query)"
   ]
  },
  {
   "cell_type": "code",
   "execution_count": 18,
   "metadata": {},
   "outputs": [
    {
     "name": "stdout",
     "output_type": "stream",
     "text": [
      "+--------+-----+\n",
      "|category|count|\n",
      "+--------+-----+\n",
      "|    일식|   10|\n",
      "|    양식|    5|\n",
      "|  디저트|    2|\n",
      "| 바(BAR)|    2|\n",
      "|    한식|    1|\n",
      "+--------+-----+\n",
      "\n"
     ]
    }
   ],
   "source": [
    "naver_restaurant_top20_df.groupBy(\"category\").count().orderBy(\"count\", ascending=False).show()\n",
    "\n",
    "new_temp = naver_restaurant_top20_df.groupBy(\"category\").count().orderBy(\"count\", ascending=False)\n",
    "\n",
    "naver_top20 = new_temp.select(\"*\").toPandas()"
   ]
  },
  {
   "cell_type": "code",
   "execution_count": 19,
   "metadata": {},
   "outputs": [
    {
     "data": {
      "image/png": "[encoded data removed]",
      "text/plain": [
       "<Figure size 720x576 with 1 Axes>"
      ]
     },
     "metadata": {},
     "output_type": "display_data"
    }
   ],
   "source": [
    "plt.rcParams['figure.facecolor'] = '#F3EFEC'\n",
    "plt.rcParams['axes.facecolor'] = '#F3EFEC'\n",
    "\n",
    "plt.rcParams[\"font.family\"] = \"NanumGothic\"\n",
    "plt.rcParams['font.size'] = 14\n",
    "\n",
    "fig = plt.figure(figsize=(10,8))\n",
    "plt.title(\"네이버 top 20\")\n",
    "sns.barplot(x=naver_top20[\"category\"], y=naver_top20[\"count\"])\n",
    "plt.xticks(fontsize=16)\n",
    "fig.savefig('naver_top.png', transparent=True)\n",
    "plt.show()"
   ]
  },
  {
   "cell_type": "code",
   "execution_count": 47,
   "metadata": {},
   "outputs": [
    {
     "name": "stdout",
     "output_type": "stream",
     "text": [
      "+---+-------------------------+------+--------+\n",
      "| id|                     name|rating|category|\n",
      "+---+-------------------------+------+--------+\n",
      "|167|           일흥콩나물국밥|  4.16|    한식|\n",
      "|219|             홍이네떡볶이|  4.16|    한식|\n",
      "|215|             가고파설렁탕|  4.18|    한식|\n",
      "|119|               미즐카페엠|  4.19|  디저트|\n",
      "|218|                   한참치|   4.2|    일식|\n",
      "|168|                   드시소|  4.26|    일식|\n",
      "|230|                   춘천옥|  4.27|    한식|\n",
      "|157|                 평양면옥|  4.28|    한식|\n",
      "|224|             세라즈피자펍|   4.3|    양식|\n",
      "|103|             신흥정육식당|  4.31|    한식|\n",
      "|106|             진미한우곱창|  4.31|    한식|\n",
      "|238|                   호접몽|  4.31|    중식|\n",
      "|155|이스트바이게이트 신도림점|  4.32|태국음식|\n",
      "|249|                   수정궁|  4.32|    중식|\n",
      "|152|             월래순교자관|  4.34|    중식|\n",
      "|181|                 스시이마|  4.34|    일식|\n",
      "|130|               배진수스시|  4.35|    일식|\n",
      "|158|          신도림 이도식당|  4.35|    한식|\n",
      "|176|                   대관원|  4.35|    중식|\n",
      "|220|               파크더블유|  4.35|  디저트|\n",
      "+---+-------------------------+------+--------+\n",
      "\n"
     ]
    }
   ],
   "source": [
    "# 네이버 평점\n",
    "\n",
    "query = \"\"\"\n",
    "SELECT id, name, rating,\n",
    "CASE WHEN category = \"국밥\" THEN \"한식\"\n",
    "     WHEN category = \"떡볶이\" THEN \"한식\"\n",
    "     WHEN category = \"곰탕,설렁탕\" THEN \"한식\"\n",
    "     WHEN category = \"냉면\" THEN \"한식\"\n",
    "     WHEN category = \"정육식당\" THEN \"한식\"\n",
    "     WHEN category = \"닭갈비\" THEN \"한식\"\n",
    "     WHEN category = \"곱창,막창,양\" THEN \"한식\"\n",
    "     WHEN category = \"생선회\" THEN \"일식\"      \n",
    "     WHEN category = \"초밥,롤\" THEN \"일식\"      \n",
    "     WHEN category = \"일식당\" THEN \"일식\"\n",
    "     WHEN category = \"피자\" THEN \"양식\"\n",
    "     WHEN category = \"중식당\" THEN \"중식\"\n",
    "     WHEN category = \"카페,디저트\" THEN \"디저트\"\n",
    "     ELSE category\n",
    "     END AS category\n",
    "FROM naver_restaurant\n",
    "WHERE rating IS NOT NULL AND\n",
    "      rating > 0.1\n",
    "ORDER BY rating\n",
    "LIMIT 20;\n",
    "\"\"\"\n",
    "\n",
    "spark.sql(query).show()\n",
    "naver_restaurant_top20_df = spark.sql(query)"
   ]
  },
  {
   "cell_type": "code",
   "execution_count": 48,
   "metadata": {},
   "outputs": [],
   "source": [
    "temp_df = spark.sql(query).groupBy(\"category\").count().orderBy(\"count\", ascending=False)\n",
    "naver_restaurant_bottom20_df = temp_df.select(\"*\").toPandas()"
   ]
  },
  {
   "cell_type": "code",
   "execution_count": 49,
   "metadata": {},
   "outputs": [
    {
     "data": {
      "text/html": [
       "<div>\n",
       "<style scoped>\n",
       "    .dataframe tbody tr th:only-of-type {\n",
       "        vertical-align: middle;\n",
       "    }\n",
       "\n",
       "    .dataframe tbody tr th {\n",
       "        vertical-align: top;\n",
       "    }\n",
       "\n",
       "    .dataframe thead th {\n",
       "        text-align: right;\n",
       "    }\n",
       "</style>\n",
       "<table border=\"1\" class=\"dataframe\">\n",
       "  <thead>\n",
       "    <tr style=\"text-align: right;\">\n",
       "      <th></th>\n",
       "      <th>category</th>\n",
       "      <th>count</th>\n",
       "    </tr>\n",
       "  </thead>\n",
       "  <tbody>\n",
       "    <tr>\n",
       "      <th>0</th>\n",
       "      <td>한식</td>\n",
       "      <td>8</td>\n",
       "    </tr>\n",
       "    <tr>\n",
       "      <th>1</th>\n",
       "      <td>일식</td>\n",
       "      <td>4</td>\n",
       "    </tr>\n",
       "    <tr>\n",
       "      <th>2</th>\n",
       "      <td>중식</td>\n",
       "      <td>4</td>\n",
       "    </tr>\n",
       "    <tr>\n",
       "      <th>3</th>\n",
       "      <td>디저트</td>\n",
       "      <td>2</td>\n",
       "    </tr>\n",
       "    <tr>\n",
       "      <th>4</th>\n",
       "      <td>양식</td>\n",
       "      <td>1</td>\n",
       "    </tr>\n",
       "    <tr>\n",
       "      <th>5</th>\n",
       "      <td>태국음식</td>\n",
       "      <td>1</td>\n",
       "    </tr>\n",
       "  </tbody>\n",
       "</table>\n",
       "</div>"
      ],
      "text/plain": [
       "  category  count\n",
       "0       한식      8\n",
       "1       일식      4\n",
       "2       중식      4\n",
       "3      디저트      2\n",
       "4       양식      1\n",
       "5     태국음식      1"
      ]
     },
     "execution_count": 49,
     "metadata": {},
     "output_type": "execute_result"
    }
   ],
   "source": [
    "naver_restaurant_bottom20_df"
   ]
  },
  {
   "cell_type": "code",
   "execution_count": 52,
   "metadata": {},
   "outputs": [
    {
     "data": {
      "image/png": "[encoded data removed]",
      "text/plain": [
       "<Figure size 720x576 with 1 Axes>"
      ]
     },
     "metadata": {
      "needs_background": "light"
     },
     "output_type": "display_data"
    }
   ],
   "source": [
    "plt.rcParams[\"font.family\"] = \"NanumGothic\"\n",
    "plt.rcParams['font.size'] = 14\n",
    "\n",
    "fig = plt.figure(figsize=(10,8))\n",
    "plt.title(\"네이버 bottom 20\")\n",
    "sns.barplot(x=naver_restaurant_bottom20_df[\"category\"], y=naver_restaurant_bottom20_df[\"count\"])\n",
    "plt.xticks(fontsize=16)\n",
    "fig.savefig('naver_bottom.png', transparent=True)\n",
    "plt.show()"
   ]
  },
  {
   "cell_type": "code",
   "execution_count": 30,
   "metadata": {},
   "outputs": [
    {
     "name": "stdout",
     "output_type": "stream",
     "text": [
      "+-------------+---+\n",
      "|     category|CNT|\n",
      "+-------------+---+\n",
      "|칵테일 / 와인|  1|\n",
      "|         일식|  1|\n",
      "|         양식|  1|\n",
      "|       디저트|  2|\n",
      "|         한식|  1|\n",
      "|         양식|  1|\n",
      "|         일식|  1|\n",
      "|       디저트|  2|\n",
      "|         일식|  2|\n",
      "|         한식|  1|\n",
      "|         양식|  1|\n",
      "|         일식|  2|\n",
      "|         양식|  1|\n",
      "|         일식|  4|\n",
      "|         양식|  1|\n",
      "|         양식|  1|\n",
      "|         일식|  1|\n",
      "+-------------+---+\n",
      "\n"
     ]
    }
   ],
   "source": [
    "query = \"\"\"\n",
    "SELECT CASE WHEN category = \"카페 / 디저트\" THEN \"디저트\"\n",
    "     WHEN category = \"베이커리\" THEN \"디저트\"\n",
    "     WHEN category = \"까스 요리\" THEN \"일식\"\n",
    "     WHEN category = \"회 / 스시\" THEN \"일식\"\n",
    "     WHEN category = \"이자카야 / 오뎅 / 꼬치\" THEN \"일식\"\n",
    "     WHEN category = \"돈부리 / 일본 카레 / 벤토\" THEN \"일식\"\n",
    "     WHEN category = \"정통 일식 / 일반 일식\" THEN \"일식\"\n",
    "     WHEN category = \"한정식 / 백반 / 정통 한식\" THEN \"한식\"\n",
    "     WHEN category = \"고기 요리\" THEN \"한식\"\n",
    "     WHEN category = \"철판 요리\" THEN \"일식\"\n",
    "     WHEN category = \"세계음식 기타\" THEN \"양식\"\n",
    "     WHEN category = \"기타 양식\" THEN \"양식\"\n",
    "     WHEN category = \"프랑스 음식\" THEN \"양식\"\n",
    "     WHEN category = \"이탈리안\" THEN \"양식\"\n",
    "     WHEN category = \"스테이크 / 바베큐\" THEN \"양식\"\n",
    "     WHEN category = \"브런치 / 버거 / 샌드위치\" THEN \"양식\"\n",
    "     ELSE category\n",
    "     END AS category, count(*) AS CNT\n",
    "FROM mango_restaurant\n",
    "WHERE rating > 4.6\n",
    "GROUP BY category\n",
    "\n",
    "LIMIT 20;\n",
    "\"\"\"\n",
    "\n",
    "spark.sql(query).show()\n",
    "mango_restaurant_bottom20_df = spark.sql(query)"
   ]
  },
  {
   "cell_type": "code",
   "execution_count": 31,
   "metadata": {},
   "outputs": [
    {
     "name": "stdout",
     "output_type": "stream",
     "text": [
      "+---+-------------------------+------+--------+\n",
      "| id|                     name|rating|category|\n",
      "+---+-------------------------+------+--------+\n",
      "|167|           일흥콩나물국밥|  4.16|    한식|\n",
      "|219|             홍이네떡볶이|  4.16|    한식|\n",
      "|215|             가고파설렁탕|  4.18|    한식|\n",
      "|119|               미즐카페엠|  4.19|  디저트|\n",
      "|218|                   한참치|   4.2|    일식|\n",
      "|168|                   드시소|  4.26|    일식|\n",
      "|230|                   춘천옥|  4.27|    한식|\n",
      "|157|                 평양면옥|  4.28|    한식|\n",
      "|224|             세라즈피자펍|   4.3|    양식|\n",
      "|103|             신흥정육식당|  4.31|    한식|\n",
      "|106|             진미한우곱창|  4.31|    한식|\n",
      "|238|                   호접몽|  4.31|  중식당|\n",
      "|155|이스트바이게이트 신도림점|  4.32|태국음식|\n",
      "|249|                   수정궁|  4.32|  중식당|\n",
      "|152|             월래순교자관|  4.34|  중식당|\n",
      "|181|                 스시이마|  4.34|    일식|\n",
      "|130|               배진수스시|  4.35|    일식|\n",
      "|158|          신도림 이도식당|  4.35|    한식|\n",
      "|176|                   대관원|  4.35|  중식당|\n",
      "|220|               파크더블유|  4.35|  디저트|\n",
      "+---+-------------------------+------+--------+\n",
      "\n"
     ]
    }
   ],
   "source": [
    "# 네이버 평점\n",
    "\n",
    "query = \"\"\"\n",
    "SELECT id, name, rating,\n",
    "CASE WHEN category = \"카페,디저트\" THEN \"디저트\"\n",
    "     WHEN category = \"베이커리\" THEN \"디저트\"\n",
    "     WHEN category = \"까스 요리\" THEN \"일식\"\n",
    "     WHEN category = \"초밥,롤\" THEN \"일식\"\n",
    "     WHEN category = \"일식튀김,꼬치\" THEN \"일식\"\n",
    "     WHEN category = \"돈가스\" THEN \"일식\"\n",
    "     WHEN category = \"일식당\" THEN \"일식\"\n",
    "     WHEN category = \"정육식당\" THEN \"한식\"\n",
    "     WHEN category = \"국밥\" THEN \"한식\"\n",
    "     WHEN category = \"곰탕,설렁탕\" THEN \"한식\"\n",
    "     WHEN category = \"곱창,막창,양\" THEN \"한식\"\n",
    "     WHEN category = \"닭갈비\" THEN \"한식\"\n",
    "     WHEN category = \"떡볶이\" THEN \"한식\"\n",
    "     WHEN category = \"냉면\" THEN \"한식\"\n",
    "     WHEN category = \"생선회\" THEN \"일식\"\n",
    "     WHEN category = \"세계음식 기타\" THEN \"양식\"\n",
    "     WHEN category = \"피자\" THEN \"양식\"\n",
    "     WHEN category = \"프랑스음식\" THEN \"양식\"\n",
    "     WHEN category = \"이탈리안\" THEN \"양식\"\n",
    "     WHEN category = \"스파게티,파스타전문\" THEN \"양식\"\n",
    "     WHEN category = \"정통 중식 / 일반 중식\" THEN \"중식\"\n",
    "     ELSE category\n",
    "     END AS category\n",
    "FROM naver_restaurant\n",
    "WHERE rating IS NOT NULL\n",
    "ORDER BY rating ASC\n",
    "LIMIT 20;\n",
    "\"\"\"\n",
    "\n",
    "spark.sql(query).show()"
   ]
  },
  {
   "cell_type": "code",
   "execution_count": 32,
   "metadata": {},
   "outputs": [
    {
     "name": "stdout",
     "output_type": "stream",
     "text": [
      "+---+---------------------------------+------+-------------+\n",
      "| id|                             name|rating|     category|\n",
      "+---+---------------------------------+------+-------------+\n",
      "|126|                           희희잇|   5.0|       디저트|\n",
      "|178|                             오헨|   5.0|       디저트|\n",
      "|210|                           시미베|   5.0|         일식|\n",
      "|237|                       우애돈카츠|   5.0|         일식|\n",
      "|131|따빠디또 디저트 따빠스바 (휴업중)|   4.9|       디저트|\n",
      "|277|                           라바즈|   4.9|       디저트|\n",
      "|133|                         베이컨시|   4.8|         양식|\n",
      "|164|                         우정초밥|   4.8|         일식|\n",
      "|174|             바이러닉에스프레소바|   4.8|       디저트|\n",
      "|194|                         BAR CHAM|   4.8|      바(BAR)|\n",
      "|250|                             겨리|   4.8|         일식|\n",
      "|255|                         스시코야|   4.8|         일식|\n",
      "|102|                         얌얌카츠|   4.7|         일식|\n",
      "|107|                     이한진숙성회|   4.7|         일식|\n",
      "|124|                       소장식물전|   4.7|       디저트|\n",
      "|134|                           빠사삭|   4.7|         일식|\n",
      "|195|                             팔마|   4.7|멕시코 음식점|\n",
      "|149|                             플록|   4.7|         양식|\n",
      "|150|                           시홍쓰|   4.7|         중식|\n",
      "|205|                         시키카츠|   4.7|         일식|\n",
      "+---+---------------------------------+------+-------------+\n",
      "\n"
     ]
    }
   ],
   "source": [
    "# 구글 리뷰\n",
    "\n",
    "query = \"\"\"\n",
    "SELECT id, name,  rating,\n",
    "CASE WHEN category = \"스시/초밥집\" THEN \"일식\"\n",
    "     WHEN category = \"돈까스 전문식당\" THEN \"일식\"\n",
    "     WHEN category = \"튀김 전문식당\" THEN \"일식\"\n",
    "     WHEN category = \"일본 음식점\" THEN \"일식\"\n",
    "     WHEN category = \"카페\" THEN \"디저트\"\n",
    "     WHEN category = \"제과점\" THEN \"디저트\"\n",
    "     WHEN category = \"한식당\" THEN \"한식\"\n",
    "     WHEN category = \"김밥은\" THEN \"한식\"\n",
    "     WHEN category = \"춘천옥\" THEN \"한식\"\n",
    "     WHEN category = \"홍이네떡볶이\" THEN \"한식\"\n",
    "     WHEN category = \"음식점\" THEN \"일식\"\n",
    "     WHEN category = \"이탈리아 음식점\" THEN \"양식\"\n",
    "     WHEN category = \"중국 음식점\" THEN \"중식\"\n",
    "     WHEN category = \"프랑스 제과점\" THEN \"디저트\"\n",
    "     WHEN category = \"디저트 전문 레스토랑\" THEN \"디저트\"\n",
    "     WHEN category = \"에스프레소 바\" THEN \"디저트\"\n",
    "     WHEN category = \"프렌치 (현대식) 레스토랑\" THEN \"양식\"\n",
    "     WHEN category = \"칵테일바\" THEN \"바(BAR)\"\n",
    "     ELSE category\n",
    "     END AS category\n",
    "FROM google_restaurant\n",
    "\n",
    "ORDER BY rating DESC\n",
    "LIMIT 20;\n",
    "\"\"\"\n",
    "\n",
    "spark.sql(query).show()"
   ]
  },
  {
   "cell_type": "code",
   "execution_count": null,
   "metadata": {},
   "outputs": [],
   "source": []
  },
  {
   "cell_type": "code",
   "execution_count": 33,
   "metadata": {},
   "outputs": [
    {
     "name": "stdout",
     "output_type": "stream",
     "text": [
      "+-------------+-----+\n",
      "|     category|count|\n",
      "+-------------+-----+\n",
      "|         일식|    9|\n",
      "|       디저트|    6|\n",
      "|         양식|    2|\n",
      "|      바(BAR)|    1|\n",
      "|멕시코 음식점|    1|\n",
      "|         중식|    1|\n",
      "+-------------+-----+\n",
      "\n"
     ]
    }
   ],
   "source": [
    "temp_df = spark.sql(query)\n",
    "temp_df.groupBy(\"category\").count().orderBy(\"count\", ascending=False).show()\n",
    "google_top20 = temp_df.groupBy(\"category\").count().orderBy(\"count\", ascending=False).toPandas()"
   ]
  },
  {
   "cell_type": "code",
   "execution_count": 34,
   "metadata": {},
   "outputs": [
    {
     "data": {
      "text/html": [
       "<div>\n",
       "<style scoped>\n",
       "    .dataframe tbody tr th:only-of-type {\n",
       "        vertical-align: middle;\n",
       "    }\n",
       "\n",
       "    .dataframe tbody tr th {\n",
       "        vertical-align: top;\n",
       "    }\n",
       "\n",
       "    .dataframe thead th {\n",
       "        text-align: right;\n",
       "    }\n",
       "</style>\n",
       "<table border=\"1\" class=\"dataframe\">\n",
       "  <thead>\n",
       "    <tr style=\"text-align: right;\">\n",
       "      <th></th>\n",
       "      <th>category</th>\n",
       "      <th>count</th>\n",
       "    </tr>\n",
       "  </thead>\n",
       "  <tbody>\n",
       "    <tr>\n",
       "      <th>0</th>\n",
       "      <td>일식</td>\n",
       "      <td>9</td>\n",
       "    </tr>\n",
       "    <tr>\n",
       "      <th>1</th>\n",
       "      <td>디저트</td>\n",
       "      <td>6</td>\n",
       "    </tr>\n",
       "    <tr>\n",
       "      <th>2</th>\n",
       "      <td>양식</td>\n",
       "      <td>2</td>\n",
       "    </tr>\n",
       "    <tr>\n",
       "      <th>3</th>\n",
       "      <td>바(BAR)</td>\n",
       "      <td>1</td>\n",
       "    </tr>\n",
       "    <tr>\n",
       "      <th>4</th>\n",
       "      <td>멕시코 음식점</td>\n",
       "      <td>1</td>\n",
       "    </tr>\n",
       "    <tr>\n",
       "      <th>5</th>\n",
       "      <td>중식</td>\n",
       "      <td>1</td>\n",
       "    </tr>\n",
       "  </tbody>\n",
       "</table>\n",
       "</div>"
      ],
      "text/plain": [
       "  category  count\n",
       "0       일식      9\n",
       "1      디저트      6\n",
       "2       양식      2\n",
       "3   바(BAR)      1\n",
       "4  멕시코 음식점      1\n",
       "5       중식      1"
      ]
     },
     "execution_count": 34,
     "metadata": {},
     "output_type": "execute_result"
    }
   ],
   "source": [
    "google_top20"
   ]
  },
  {
   "cell_type": "code",
   "execution_count": 66,
   "metadata": {},
   "outputs": [
    {
     "data": {
      "image/png": "[encoded data removed]",
      "text/plain": [
       "<Figure size 720x576 with 1 Axes>"
      ]
     },
     "metadata": {},
     "output_type": "display_data"
    }
   ],
   "source": [
    "plt.rcParams['figure.facecolor'] = '#F3EFEC'\n",
    "plt.rcParams['axes.facecolor'] = '#F3EFEC'\n",
    "plt.rcParams[\"font.family\"] = \"NanumGothic\"\n",
    "plt.rcParams['font.size'] = 14\n",
    "\n",
    "plt.figure(figsize=(10,8))\n",
    "plt.title(\"구글 top 20\")\n",
    "sns.barplot(x=google_top20[\"category\"], y=google_top20[\"count\"])\n",
    "plt.xticks(fontsize=16)\n",
    "plt.show()"
   ]
  },
  {
   "cell_type": "code",
   "execution_count": 36,
   "metadata": {},
   "outputs": [
    {
     "name": "stdout",
     "output_type": "stream",
     "text": [
      "+---+--------------------+------+--------------------+\n",
      "| id|                name|rating|            category|\n",
      "+---+--------------------+------+--------------------+\n",
      "|258|        홍콩중화요리|   2.5|              음식점|\n",
      "|177|            히노노리|   3.7|         일본 음식점|\n",
      "|117|              김밥은|   3.8|              음식점|\n",
      "|158|     신도림 이도식당|   3.8|              한식당|\n",
      "|230|              춘천옥|   3.8|              음식점|\n",
      "|115|            동네함박|   3.9|              음식점|\n",
      "|141|오코노미야키식당하나|   3.9|     돈까스 전문식당|\n",
      "|155|    이스트바이게이트|   3.9|         태국 음식점|\n",
      "|110|          등갈비달인|   4.0|    갈비 전문 음식점|\n",
      "|130|          배진수스시|   4.0|                일식|\n",
      "|160|          빈브라더스|   4.0|  커피숍/커피 전문점|\n",
      "|188|            스시쇼부|   4.0|                일식|\n",
      "|219|        홍이네떡볶이|   4.0|          간이음식점|\n",
      "|146|            매운향솥|   4.1|         중국 음식점|\n",
      "|156|          상하이포차|   4.1|         중국 음식점|\n",
      "|145|            빠오즈푸|   4.1|  딤섬 전문 레스토랑|\n",
      "|159|        신도림참족발|   4.1|         족발/보쌈집|\n",
      "|167|      일흥콩나물국밥|   4.1|       해장국 전문점|\n",
      "|175|      줘마양다리구이|   4.1|양고기 바베큐 전문점|\n",
      "|176|              대관원|   4.1|         중국 음식점|\n",
      "+---+--------------------+------+--------------------+\n",
      "\n"
     ]
    }
   ],
   "source": [
    "# 구글 리뷰\n",
    "\n",
    "query = \"\"\"\n",
    "SELECT id, name,  rating,\n",
    "CASE WHEN category = \"스시/초밥집\" THEN \"일식\"\n",
    "     \n",
    "     ELSE category\n",
    "     END AS category\n",
    "FROM google_restaurant\n",
    "WHERE rating > 0.1\n",
    "ORDER BY rating ASC\n",
    "LIMIT 20;\n",
    "\"\"\"\n",
    "\n",
    "spark.sql(query).show()"
   ]
  },
  {
   "cell_type": "code",
   "execution_count": 37,
   "metadata": {},
   "outputs": [],
   "source": [
    "temp_df = spark.sql(query).toPandas()"
   ]
  },
  {
   "cell_type": "code",
   "execution_count": 38,
   "metadata": {},
   "outputs": [],
   "source": [
    "temp_sdf = spark.createDataFrame(temp_df)"
   ]
  },
  {
   "cell_type": "code",
   "execution_count": 39,
   "metadata": {},
   "outputs": [],
   "source": [
    "temp_sdf.createOrReplaceTempView(\"google_bottom\")"
   ]
  },
  {
   "cell_type": "code",
   "execution_count": 40,
   "metadata": {},
   "outputs": [
    {
     "name": "stdout",
     "output_type": "stream",
     "text": [
      "+---+--------------------+------+-----------+\n",
      "| id|                name|rating|   category|\n",
      "+---+--------------------+------+-----------+\n",
      "|258|        홍콩중화요리|   2.5|       한식|\n",
      "|177|            히노노리|   3.7|       일식|\n",
      "|117|              김밥은|   3.8|       한식|\n",
      "|158|     신도림 이도식당|   3.8|       한식|\n",
      "|230|              춘천옥|   3.8|       한식|\n",
      "|115|            동네함박|   3.9|       한식|\n",
      "|141|오코노미야키식당하나|   3.9|       일식|\n",
      "|155|    이스트바이게이트|   3.9|태국 음식점|\n",
      "|219|        홍이네떡볶이|   4.0|       한식|\n",
      "|110|          등갈비달인|   4.0|       한식|\n",
      "|130|          배진수스시|   4.0|       일식|\n",
      "|160|          빈브라더스|   4.0|     디저트|\n",
      "|188|            스시쇼부|   4.0|       일식|\n",
      "|146|            매운향솥|   4.1|       중식|\n",
      "|145|            빠오즈푸|   4.1|       중식|\n",
      "|156|          상하이포차|   4.1|       중식|\n",
      "|159|        신도림참족발|   4.1|       한식|\n",
      "|176|              대관원|   4.1|       중식|\n",
      "|167|      일흥콩나물국밥|   4.1|       한식|\n",
      "|175|      줘마양다리구이|   4.1|       양식|\n",
      "+---+--------------------+------+-----------+\n",
      "\n"
     ]
    }
   ],
   "source": [
    "# 구글 리뷰\n",
    "\n",
    "query = \"\"\"\n",
    "SELECT id, name,  rating,\n",
    "CASE WHEN category = \"스시/초밥집\" THEN \"일식\"\n",
    "     WHEN category = \"일본 음식점\" THEN \"일식\"\n",
    "     WHEN category = \"한식당\" THEN \"한식\"\n",
    "     WHEN category = \"음식점\" THEN \"한식\"\n",
    "     WHEN category = \"돈까스 전문식당\" THEN \"일식\"\n",
    "     WHEN category = \"간이음식점\" THEN \"한식\"\n",
    "     WHEN category = \"갈비 전문 음식점\" THEN \"한식\"\n",
    "     WHEN category = \"커피숍/커피 전문점\" THEN \"디저트\"\n",
    "     WHEN category = \"중국 음식점\" THEN \"중식\"\n",
    "     WHEN category = \"딤섬 전문 레스토랑\" THEN \"중식\"\n",
    "     WHEN category = \"족발/보쌈집\" THEN \"한식\"\n",
    "     WHEN category = \"해장국 전문점\" THEN \"한식\"\n",
    "     WHEN category = \"양고기 바베큐 전문점\" THEN \"양식\"\n",
    "\n",
    "     \n",
    "     ELSE category\n",
    "     END AS category\n",
    "FROM google_bottom\n",
    "WHERE rating > 0.1\n",
    "ORDER BY rating ASC\n",
    "LIMIT 20;\n",
    "\"\"\"\n",
    "\n",
    "spark.sql(query).show()"
   ]
  },
  {
   "cell_type": "code",
   "execution_count": 41,
   "metadata": {},
   "outputs": [
    {
     "name": "stdout",
     "output_type": "stream",
     "text": [
      "+-----------+-----+\n",
      "|   category|count|\n",
      "+-----------+-----+\n",
      "|       한식|    9|\n",
      "|       일식|    4|\n",
      "|       중식|    4|\n",
      "|태국 음식점|    1|\n",
      "|     디저트|    1|\n",
      "|       양식|    1|\n",
      "+-----------+-----+\n",
      "\n"
     ]
    }
   ],
   "source": [
    "temp_df = spark.sql(query)\n",
    "temp_df.groupBy(\"category\").count().orderBy(\"count\", ascending=False).show()\n",
    "google_bottom20 = temp_df.groupBy(\"category\").count().orderBy(\"count\", ascending=False).toPandas()"
   ]
  },
  {
   "cell_type": "code",
   "execution_count": 67,
   "metadata": {},
   "outputs": [
    {
     "data": {
      "image/png": "[encoded data removed]",
      "text/plain": [
       "<Figure size 720x576 with 1 Axes>"
      ]
     },
     "metadata": {},
     "output_type": "display_data"
    }
   ],
   "source": [
    "plt.rcParams['figure.facecolor'] = '#F3EFEC'\n",
    "plt.rcParams['axes.facecolor'] = '#F3EFEC'\n",
    "plt.rcParams[\"font.family\"] = \"NanumGothic\"\n",
    "plt.rcParams['font.size'] = 14\n",
    "\n",
    "plt.figure(figsize=(10,8))\n",
    "plt.title(\"구글 bottom 20\")\n",
    "sns.barplot(x=google_bottom20[\"category\"], y=google_bottom20[\"count\"])\n",
    "plt.xticks(fontsize=16)\n",
    "plt.show()"
   ]
  },
  {
   "cell_type": "code",
   "execution_count": 71,
   "metadata": {},
   "outputs": [
    {
     "name": "stdout",
     "output_type": "stream",
     "text": [
      "+---+------------+------------+-------------+\n",
      "| id|mango_rating|naver_rating|google_rating|\n",
      "+---+------------+------------+-------------+\n",
      "|101|         4.4|        4.47|          4.3|\n",
      "|102|         4.4|        4.65|          4.7|\n",
      "|103|         4.4|        4.31|          4.4|\n",
      "|104|         4.3|        4.67|          4.5|\n",
      "|105|         4.3|         4.4|          4.5|\n",
      "|106|         4.3|        4.31|          4.3|\n",
      "|108|         4.3|        4.59|          4.5|\n",
      "|110|         4.3|        4.51|          4.0|\n",
      "|111|         4.3|        4.38|          4.2|\n",
      "|112|         4.3|        4.44|          4.6|\n",
      "|113|         4.3|        4.48|          4.2|\n",
      "|114|         4.2|         4.7|          4.4|\n",
      "|115|         4.1|        4.38|          3.9|\n",
      "|116|         4.1|        4.57|          4.6|\n",
      "|117|         4.1|        4.42|          3.8|\n",
      "|118|         4.1|        4.46|          4.5|\n",
      "|119|         4.0|        4.19|          4.2|\n",
      "|120|         4.0|        4.44|          4.3|\n",
      "|122|         4.3|        4.42|          4.3|\n",
      "|123|         4.3|        4.67|          4.6|\n",
      "+---+------------+------------+-------------+\n",
      "only showing top 20 rows\n",
      "\n"
     ]
    }
   ],
   "source": [
    "query = \"\"\"\n",
    "SELECT mango_restaurant.id, \n",
    "       mango_restaurant.rating AS mango_rating, \n",
    "       naver_restaurant.rating AS naver_rating,\n",
    "       google_restaurant.rating AS google_rating\n",
    "\n",
    "FROM mango_restaurant\n",
    "JOIN naver_restaurant\n",
    "ON mango_restaurant.id = naver_restaurant.id\n",
    "\n",
    "JOIN google_restaurant\n",
    "ON google_restaurant.id = mango_restaurant.id\n",
    "\n",
    "WHERE naver_restaurant.rating IS NOT NULL\n",
    "AND google_restaurant.rating > 0.1;\n",
    "\"\"\"\n",
    "spark.sql(query).show()"
   ]
  },
  {
   "cell_type": "code",
   "execution_count": 72,
   "metadata": {},
   "outputs": [
    {
     "data": {
      "text/html": [
       "<div>\n",
       "<style scoped>\n",
       "    .dataframe tbody tr th:only-of-type {\n",
       "        vertical-align: middle;\n",
       "    }\n",
       "\n",
       "    .dataframe tbody tr th {\n",
       "        vertical-align: top;\n",
       "    }\n",
       "\n",
       "    .dataframe thead th {\n",
       "        text-align: right;\n",
       "    }\n",
       "</style>\n",
       "<table border=\"1\" class=\"dataframe\">\n",
       "  <thead>\n",
       "    <tr style=\"text-align: right;\">\n",
       "      <th></th>\n",
       "      <th>id</th>\n",
       "      <th>mango_rating</th>\n",
       "      <th>naver_rating</th>\n",
       "      <th>google_rating</th>\n",
       "    </tr>\n",
       "  </thead>\n",
       "  <tbody>\n",
       "    <tr>\n",
       "      <th>0</th>\n",
       "      <td>101</td>\n",
       "      <td>4.4</td>\n",
       "      <td>4.47</td>\n",
       "      <td>4.3</td>\n",
       "    </tr>\n",
       "    <tr>\n",
       "      <th>1</th>\n",
       "      <td>102</td>\n",
       "      <td>4.4</td>\n",
       "      <td>4.65</td>\n",
       "      <td>4.7</td>\n",
       "    </tr>\n",
       "    <tr>\n",
       "      <th>2</th>\n",
       "      <td>103</td>\n",
       "      <td>4.4</td>\n",
       "      <td>4.31</td>\n",
       "      <td>4.4</td>\n",
       "    </tr>\n",
       "    <tr>\n",
       "      <th>3</th>\n",
       "      <td>104</td>\n",
       "      <td>4.3</td>\n",
       "      <td>4.67</td>\n",
       "      <td>4.5</td>\n",
       "    </tr>\n",
       "    <tr>\n",
       "      <th>4</th>\n",
       "      <td>105</td>\n",
       "      <td>4.3</td>\n",
       "      <td>4.40</td>\n",
       "      <td>4.5</td>\n",
       "    </tr>\n",
       "    <tr>\n",
       "      <th>...</th>\n",
       "      <td>...</td>\n",
       "      <td>...</td>\n",
       "      <td>...</td>\n",
       "      <td>...</td>\n",
       "    </tr>\n",
       "    <tr>\n",
       "      <th>139</th>\n",
       "      <td>274</td>\n",
       "      <td>4.8</td>\n",
       "      <td>4.78</td>\n",
       "      <td>4.3</td>\n",
       "    </tr>\n",
       "    <tr>\n",
       "      <th>140</th>\n",
       "      <td>275</td>\n",
       "      <td>4.7</td>\n",
       "      <td>4.47</td>\n",
       "      <td>4.7</td>\n",
       "    </tr>\n",
       "    <tr>\n",
       "      <th>141</th>\n",
       "      <td>276</td>\n",
       "      <td>4.7</td>\n",
       "      <td>4.87</td>\n",
       "      <td>4.7</td>\n",
       "    </tr>\n",
       "    <tr>\n",
       "      <th>142</th>\n",
       "      <td>277</td>\n",
       "      <td>4.7</td>\n",
       "      <td>4.70</td>\n",
       "      <td>4.9</td>\n",
       "    </tr>\n",
       "    <tr>\n",
       "      <th>143</th>\n",
       "      <td>278</td>\n",
       "      <td>4.7</td>\n",
       "      <td>4.58</td>\n",
       "      <td>4.4</td>\n",
       "    </tr>\n",
       "  </tbody>\n",
       "</table>\n",
       "<p>144 rows × 4 columns</p>\n",
       "</div>"
      ],
      "text/plain": [
       "      id  mango_rating  naver_rating  google_rating\n",
       "0    101           4.4          4.47            4.3\n",
       "1    102           4.4          4.65            4.7\n",
       "2    103           4.4          4.31            4.4\n",
       "3    104           4.3          4.67            4.5\n",
       "4    105           4.3          4.40            4.5\n",
       "..   ...           ...           ...            ...\n",
       "139  274           4.8          4.78            4.3\n",
       "140  275           4.7          4.47            4.7\n",
       "141  276           4.7          4.87            4.7\n",
       "142  277           4.7          4.70            4.9\n",
       "143  278           4.7          4.58            4.4\n",
       "\n",
       "[144 rows x 4 columns]"
      ]
     },
     "execution_count": 72,
     "metadata": {},
     "output_type": "execute_result"
    }
   ],
   "source": [
    "temp_df = spark.sql(query).toPandas()\n",
    "temp_df"
   ]
  },
  {
   "cell_type": "code",
   "execution_count": 82,
   "metadata": {},
   "outputs": [
    {
     "data": {
      "text/html": [
       "<div>\n",
       "<style scoped>\n",
       "    .dataframe tbody tr th:only-of-type {\n",
       "        vertical-align: middle;\n",
       "    }\n",
       "\n",
       "    .dataframe tbody tr th {\n",
       "        vertical-align: top;\n",
       "    }\n",
       "\n",
       "    .dataframe thead th {\n",
       "        text-align: right;\n",
       "    }\n",
       "</style>\n",
       "<table border=\"1\" class=\"dataframe\">\n",
       "  <thead>\n",
       "    <tr style=\"text-align: right;\">\n",
       "      <th></th>\n",
       "      <th>id</th>\n",
       "      <th>variable</th>\n",
       "      <th>value</th>\n",
       "    </tr>\n",
       "  </thead>\n",
       "  <tbody>\n",
       "    <tr>\n",
       "      <th>0</th>\n",
       "      <td>101</td>\n",
       "      <td>mango_rating</td>\n",
       "      <td>4.4</td>\n",
       "    </tr>\n",
       "    <tr>\n",
       "      <th>1</th>\n",
       "      <td>102</td>\n",
       "      <td>mango_rating</td>\n",
       "      <td>4.4</td>\n",
       "    </tr>\n",
       "    <tr>\n",
       "      <th>2</th>\n",
       "      <td>103</td>\n",
       "      <td>mango_rating</td>\n",
       "      <td>4.4</td>\n",
       "    </tr>\n",
       "    <tr>\n",
       "      <th>3</th>\n",
       "      <td>104</td>\n",
       "      <td>mango_rating</td>\n",
       "      <td>4.3</td>\n",
       "    </tr>\n",
       "    <tr>\n",
       "      <th>4</th>\n",
       "      <td>105</td>\n",
       "      <td>mango_rating</td>\n",
       "      <td>4.3</td>\n",
       "    </tr>\n",
       "  </tbody>\n",
       "</table>\n",
       "</div>"
      ],
      "text/plain": [
       "    id      variable  value\n",
       "0  101  mango_rating    4.4\n",
       "1  102  mango_rating    4.4\n",
       "2  103  mango_rating    4.4\n",
       "3  104  mango_rating    4.3\n",
       "4  105  mango_rating    4.3"
      ]
     },
     "execution_count": 82,
     "metadata": {},
     "output_type": "execute_result"
    }
   ],
   "source": [
    "melted_df = pd.melt(\n",
    "    temp_df.reset_index(),\n",
    "    id_vars=[\"id\"],\n",
    "    value_vars=[\"mango_rating\", \"naver_rating\", \"google_rating\"])\n",
    "\n",
    "melted_df.head()"
   ]
  },
  {
   "cell_type": "code",
   "execution_count": 75,
   "metadata": {},
   "outputs": [
    {
     "data": {
      "text/html": [
       "<div>\n",
       "<style scoped>\n",
       "    .dataframe tbody tr th:only-of-type {\n",
       "        vertical-align: middle;\n",
       "    }\n",
       "\n",
       "    .dataframe tbody tr th {\n",
       "        vertical-align: top;\n",
       "    }\n",
       "\n",
       "    .dataframe thead th {\n",
       "        text-align: right;\n",
       "    }\n",
       "</style>\n",
       "<table border=\"1\" class=\"dataframe\">\n",
       "  <thead>\n",
       "    <tr style=\"text-align: right;\">\n",
       "      <th></th>\n",
       "      <th>id</th>\n",
       "      <th>variable</th>\n",
       "      <th>value</th>\n",
       "    </tr>\n",
       "  </thead>\n",
       "  <tbody>\n",
       "    <tr>\n",
       "      <th>0</th>\n",
       "      <td>1</td>\n",
       "      <td>mango_rating</td>\n",
       "      <td>4.4</td>\n",
       "    </tr>\n",
       "    <tr>\n",
       "      <th>1</th>\n",
       "      <td>1</td>\n",
       "      <td>mango_rating</td>\n",
       "      <td>4.4</td>\n",
       "    </tr>\n",
       "    <tr>\n",
       "      <th>2</th>\n",
       "      <td>1</td>\n",
       "      <td>mango_rating</td>\n",
       "      <td>4.4</td>\n",
       "    </tr>\n",
       "    <tr>\n",
       "      <th>3</th>\n",
       "      <td>1</td>\n",
       "      <td>mango_rating</td>\n",
       "      <td>4.3</td>\n",
       "    </tr>\n",
       "    <tr>\n",
       "      <th>4</th>\n",
       "      <td>1</td>\n",
       "      <td>mango_rating</td>\n",
       "      <td>4.3</td>\n",
       "    </tr>\n",
       "    <tr>\n",
       "      <th>...</th>\n",
       "      <td>...</td>\n",
       "      <td>...</td>\n",
       "      <td>...</td>\n",
       "    </tr>\n",
       "    <tr>\n",
       "      <th>427</th>\n",
       "      <td>1</td>\n",
       "      <td>google_rating</td>\n",
       "      <td>4.3</td>\n",
       "    </tr>\n",
       "    <tr>\n",
       "      <th>428</th>\n",
       "      <td>1</td>\n",
       "      <td>google_rating</td>\n",
       "      <td>4.7</td>\n",
       "    </tr>\n",
       "    <tr>\n",
       "      <th>429</th>\n",
       "      <td>1</td>\n",
       "      <td>google_rating</td>\n",
       "      <td>4.7</td>\n",
       "    </tr>\n",
       "    <tr>\n",
       "      <th>430</th>\n",
       "      <td>1</td>\n",
       "      <td>google_rating</td>\n",
       "      <td>4.9</td>\n",
       "    </tr>\n",
       "    <tr>\n",
       "      <th>431</th>\n",
       "      <td>1</td>\n",
       "      <td>google_rating</td>\n",
       "      <td>4.4</td>\n",
       "    </tr>\n",
       "  </tbody>\n",
       "</table>\n",
       "<p>432 rows × 3 columns</p>\n",
       "</div>"
      ],
      "text/plain": [
       "     id       variable  value\n",
       "0     1   mango_rating    4.4\n",
       "1     1   mango_rating    4.4\n",
       "2     1   mango_rating    4.4\n",
       "3     1   mango_rating    4.3\n",
       "4     1   mango_rating    4.3\n",
       "..   ..            ...    ...\n",
       "427   1  google_rating    4.3\n",
       "428   1  google_rating    4.7\n",
       "429   1  google_rating    4.7\n",
       "430   1  google_rating    4.9\n",
       "431   1  google_rating    4.4\n",
       "\n",
       "[432 rows x 3 columns]"
      ]
     },
     "execution_count": 75,
     "metadata": {},
     "output_type": "execute_result"
    }
   ],
   "source": [
    "test_df = melted_df\n",
    "test_df[\"id\"] = 1\n",
    "test_df"
   ]
  },
  {
   "cell_type": "code",
   "execution_count": 80,
   "metadata": {},
   "outputs": [
    {
     "data": {
      "image/png": "[encoded data removed]",
      "text/plain": [
       "<Figure size 864x720 with 1 Axes>"
      ]
     },
     "metadata": {},
     "output_type": "display_data"
    }
   ],
   "source": [
    "plt.rcParams['figure.facecolor'] = '#F3EFEC'\n",
    "plt.rcParams['axes.facecolor'] = '#F3EFEC'\n",
    "plt.rcParams[\"font.family\"] = \"NanumGothic\"\n",
    "plt.rcParams['font.size'] = 14\n",
    "\n",
    "plt.figure(figsize=(12,10))\n",
    "sns.violinplot(data = test_df, y = \"value\", x=\"variable\", hue=\"variable\", palette=\"Set2\", inner=\"quartile\")\n",
    "plt.legend(loc=4)\n",
    "plt.title(\"사이트별 평점 분포\")\n",
    "plt.grid()\n",
    "plt.show()"
   ]
  },
  {
   "cell_type": "code",
   "execution_count": 83,
   "metadata": {},
   "outputs": [
    {
     "data": {
      "image/png": "[encoded data removed]",
      "text/plain": [
       "<Figure size 864x720 with 1 Axes>"
      ]
     },
     "metadata": {},
     "output_type": "display_data"
    }
   ],
   "source": [
    "plt.rcParams[\"font.family\"] = \"NanumGothic\"\n",
    "plt.rcParams['font.size'] = 14\n",
    "fig = plt.figure(figsize=(12,10))\n",
    "sns.scatterplot(data = melted_df, y = \"value\", x=\"id\", hue=\"variable\", s= 70)\n",
    "plt.title(\"사이트별 평점 분포\")\n",
    "fig.savefig('temp.png', transparent=True)\n",
    "plt.show()"
   ]
  },
  {
   "cell_type": "code",
   "execution_count": null,
   "metadata": {},
   "outputs": [
    {
     "data": {
      "image/png": "[encoded data removed]",
      "text/plain": [
       "<Figure size 1440x720 with 3 Axes>"
      ]
     },
     "metadata": {
      "needs_background": "light"
     },
     "output_type": "display_data"
    }
   ],
   "source": [
    "fig, axes = plt.subplots(1, 3, figsize=(20, 10))\n",
    "\n",
    "fig.suptitle('사이트별 평점')\n",
    "\n",
    "sns.scatterplot(ax=axes[0], y = temp_df[\"google_rating\"], x = temp_df[\"id\"], s=100)\n",
    "sns.scatterplot(ax=axes[1], y = temp_df[\"naver_rating\"], x = temp_df[\"id\"], s=100, marker=\"^\")\n",
    "sns.scatterplot(ax=axes[2], y = temp_df[\"mango_rating\"], x = temp_df[\"id\"], s=100, marker=\"+\")\n",
    "plt.show()"
   ]
  }
 ],
 "metadata": {
  "kernelspec": {
   "display_name": "Python 3.7.13 ('airflow_test')",
   "language": "python",
   "name": "python3"
  },
  "language_info": {
   "codemirror_mode": {
    "name": "ipython",
    "version": 3
   },
   "file_extension": ".py",
   "mimetype": "text/x-python",
   "name": "python",
   "nbconvert_exporter": "python",
   "pygments_lexer": "ipython3",
   "version": "3.7.13"
  },
  "orig_nbformat": 4,
  "vscode": {
   "interpreter": {
    "hash": "3b1c5da81e42616fbbe1a05d7bff042466638bf58e3d0d0297f00b5621fca24d"
   }
  }
 },
 "nbformat": 4,
 "nbformat_minor": 2
}
